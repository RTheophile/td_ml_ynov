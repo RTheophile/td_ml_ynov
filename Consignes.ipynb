{
 "cells": [
  {
   "cell_type": "code",
   "execution_count": 61,
   "metadata": {},
   "outputs": [],
   "source": [
    "import pandas as pd\n",
    "\n",
    "url = \"https://raw.githubusercontent.com/FedericoDiMarzo/PythonGenreClassification/master/resources/dataframes/extracted_data.csv\"\n",
    "\n",
    "df = pd.read_csv(url, sep=',', decimal='.' )\n",
    "\n",
    "\n",
    "from sklearn.model_selection import train_test_split\n",
    "\n",
    "\n",
    "df['CLASS'] = df.CLASS.apply(int)\n",
    "\n",
    "data, prof = train_test_split(df, test_size=0.2, stratify=df.CLASS)\n",
    "\n",
    "data = data.reset_index(drop=True).reset_index().rename(columns={\"index\": \"music_id\", \"CLASS\" : \"category\"})\n",
    "prof = prof.reset_index(drop=True).reset_index().rename(columns={\"index\": \"music_id\", \"CLASS\" : \"category\"})\n",
    "test = prof.drop(['category'], axis=1)\n",
    "\n",
    "student_path = r'C:\\\\Users\\\\theop\\\\OneDrive\\\\Documents\\\\GitHub\\\\td_ml_ynov\\\\data\\\\'\n",
    "data.to_csv(student_path + 'train.csv', sep=',', decimal='.')\n",
    "test.to_csv(student_path + 'test.csv'      , sep=',', decimal='.')\n",
    "\n",
    "data.to_csv('data/train.csv', sep=',', decimal='.')\n",
    "prof.to_csv('data/prof.csv'      , sep=',', decimal='.')\n",
    "test.to_csv('data/test.csv'      , sep=',', decimal='.')\n",
    "\n"
   ]
  },
  {
   "cell_type": "code",
   "execution_count": null,
   "metadata": {},
   "outputs": [],
   "source": []
  },
  {
   "cell_type": "code",
   "execution_count": 47,
   "metadata": {},
   "outputs": [],
   "source": []
  },
  {
   "cell_type": "code",
   "execution_count": null,
   "metadata": {},
   "outputs": [],
   "source": []
  },
  {
   "cell_type": "code",
   "execution_count": null,
   "metadata": {},
   "outputs": [],
   "source": []
  },
  {
   "cell_type": "code",
   "execution_count": null,
   "metadata": {},
   "outputs": [],
   "source": []
  },
  {
   "cell_type": "code",
   "execution_count": null,
   "metadata": {},
   "outputs": [],
   "source": []
  },
  {
   "cell_type": "code",
   "execution_count": null,
   "metadata": {},
   "outputs": [],
   "source": []
  }
 ],
 "metadata": {
  "kernelspec": {
   "display_name": "Python 3",
   "language": "python",
   "name": "python3"
  },
  "language_info": {
   "codemirror_mode": {
    "name": "ipython",
    "version": 3
   },
   "file_extension": ".py",
   "mimetype": "text/x-python",
   "name": "python",
   "nbconvert_exporter": "python",
   "pygments_lexer": "ipython3",
   "version": "3.7.6"
  }
 },
 "nbformat": 4,
 "nbformat_minor": 2
}
